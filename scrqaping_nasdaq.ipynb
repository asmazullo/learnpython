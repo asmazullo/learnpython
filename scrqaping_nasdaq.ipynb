{
 "cells": [
  {
   "cell_type": "code",
   "execution_count": 1,
   "id": "0d648624",
   "metadata": {},
   "outputs": [
    {
     "name": "stdout",
     "output_type": "stream",
     "text": [
      "o preço da acao eh de: 4.7900\n",
      "O valor do ultimo fechamento é de: $4.8300  \n",
      "Os valores medios de 52 semanas sao: 2.6000 e 10.8796\n",
      "O rating é: Buy\n"
     ]
    }
   ],
   "source": [
    "import requests\n",
    "from bs4 import BeautifulSoup\n",
    "import pandas as pd\n",
    "\n",
    "#codigo bolsa:\n",
    "#apple: aapl\n",
    "#facebok: meta\n",
    "coigo='ibrx'\n",
    "\n",
    "url = 'https://www.marketwatch.com/investing/stock/'+coigo+'?mod=search_symbol'\n",
    "pagina = requests.get(url)\n",
    "soup = BeautifulSoup(pagina.text,'lxml')\n",
    "iday = soup.find(class_ = 'intraday__data')\n",
    "preco = iday.find('bg-quote')\n",
    "blocopassado = soup.find(class_ ='intraday__close')\n",
    "valorpassado = blocopassado.find(class_ = 'table__cell u-semi')\n",
    "blocoweekrange = soup.find(class_ = 'element element--range range--yearly')\n",
    "valores = blocoweekrange.find_all(class_ = 'primary')\n",
    "rating = soup.find(class_ = 'analyst__option active')\n",
    "print(f'o preço da acao eh de: {preco.text}\\nO valor do ultimo fechamento é de: {valorpassado.text} \\nOs valores medios de 52 semanas sao: {valores[0].text} e {valores[1].text}\\nO rating é: {rating.text}')\n",
    "dadosemtabela = pd.DataFrame([preco.text,valorpassado.text,f'{valores[0].text} e {valores[1].text}',rating.text], ['Valor da Ação', 'Ultimo fechamento', 'Media 52weeks', 'Rating'])\n",
    "dadosemtabela.columns =[coigo]\n",
    "\n"
   ]
  },
  {
   "cell_type": "code",
   "execution_count": null,
   "id": "e0e8b937",
   "metadata": {},
   "outputs": [],
   "source": []
  }
 ],
 "metadata": {
  "kernelspec": {
   "display_name": "Python 3 (ipykernel)",
   "language": "python",
   "name": "python3"
  },
  "language_info": {
   "codemirror_mode": {
    "name": "ipython",
    "version": 3
   },
   "file_extension": ".py",
   "mimetype": "text/x-python",
   "name": "python",
   "nbconvert_exporter": "python",
   "pygments_lexer": "ipython3",
   "version": "3.9.12"
  }
 },
 "nbformat": 4,
 "nbformat_minor": 5
}
