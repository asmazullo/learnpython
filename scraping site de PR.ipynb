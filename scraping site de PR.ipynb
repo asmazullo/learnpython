{
 "cells": [
  {
   "cell_type": "code",
   "execution_count": 1,
   "id": "f7915e6e",
   "metadata": {},
   "outputs": [],
   "source": [
    "from selenium import webdriver\n",
    "from selenium.webdriver.common.by import By\n",
    "from bs4 import BeautifulSoup\n",
    "from selenium.webdriver.common.keys import Keys\n"
   ]
  },
  {
   "cell_type": "code",
   "execution_count": 4,
   "id": "e22ab1b5",
   "metadata": {},
   "outputs": [
    {
     "name": "stderr",
     "output_type": "stream",
     "text": [
      "C:\\Users\\User\\AppData\\Local\\Temp\\ipykernel_18680\\2730894317.py:1: DeprecationWarning: executable_path has been deprecated, please pass in a Service object\n",
      "  nvdor = webdriver.Chrome('C:\\Program Files (x86)\\chromedriver.exe')\n"
     ]
    }
   ],
   "source": [
    "nvdor = webdriver.Chrome('C:\\Program Files (x86)\\chromedriver.exe')"
   ]
  },
  {
   "cell_type": "code",
   "execution_count": 5,
   "id": "3a481e44",
   "metadata": {},
   "outputs": [],
   "source": [
    "nvdor.get('https://myimmitracker.com/en/ca/trackers/pnp-paper-based-pr-applications-tracker')"
   ]
  },
  {
   "cell_type": "code",
   "execution_count": 20,
   "id": "37bac0a8",
   "metadata": {},
   "outputs": [],
   "source": [
    "nvdor.execute_script('document.querySelector(\"#center > div > div.ag-body > div.ag-body-viewport-wrapper > div\").scrollTop=100000')"
   ]
  },
  {
   "cell_type": "code",
   "execution_count": 25,
   "id": "f14fb126",
   "metadata": {},
   "outputs": [
    {
     "data": {
      "text/plain": [
       "44185"
      ]
     },
     "execution_count": 25,
     "metadata": {},
     "output_type": "execute_result"
    }
   ],
   "source": [
    "alturatotal = nvdor.execute_script('return document.querySelector(\"#center > div > div.ag-body > div.ag-body-viewport-wrapper > div\").scrollHeight')\n",
    "alturatotal"
   ]
  },
  {
   "cell_type": "code",
   "execution_count": 28,
   "id": "3d9c96f0",
   "metadata": {},
   "outputs": [],
   "source": [
    "soup = BeautifulSoup(nvdor.page_source, 'lxml')"
   ]
  },
  {
   "cell_type": "code",
   "execution_count": 35,
   "id": "5c11c4f9",
   "metadata": {},
   "outputs": [
    {
     "data": {
      "text/plain": [
       "<div class=\"ag-cell-no-focus ag-cell ag-cell-not-inline-editing ag-cell-value\" colid=\"username\" style=\"width: 92px; left: 0px;\"><a href=\"/ca/trackers/pnp-paper-based-pr-applications-tracker/cases/case-16950\">Murphynee</a></div>"
      ]
     },
     "execution_count": 35,
     "metadata": {},
     "output_type": "execute_result"
    }
   ],
   "source": [
    "soup.find_all('div', class_='ag-row ag-row-no-focus ag-row-even ag-row-level-0')[22].find('div', class_='ag-cell-no-focus ag-cell ag-cell-not-inline-editing ag-cell-value')"
   ]
  },
  {
   "cell_type": "code",
   "execution_count": null,
   "id": "9102adf2",
   "metadata": {},
   "outputs": [],
   "source": []
  }
 ],
 "metadata": {
  "kernelspec": {
   "display_name": "Python 3 (ipykernel)",
   "language": "python",
   "name": "python3"
  },
  "language_info": {
   "codemirror_mode": {
    "name": "ipython",
    "version": 3
   },
   "file_extension": ".py",
   "mimetype": "text/x-python",
   "name": "python",
   "nbconvert_exporter": "python",
   "pygments_lexer": "ipython3",
   "version": "3.9.12"
  }
 },
 "nbformat": 4,
 "nbformat_minor": 5
}
