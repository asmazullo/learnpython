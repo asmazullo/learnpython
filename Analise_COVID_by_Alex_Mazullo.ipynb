{
  "nbformat": 4,
  "nbformat_minor": 0,
  "metadata": {
    "colab": {
      "name": "Analise COVID by Alex Mazullo.ipynb",
      "provenance": [],
      "authorship_tag": "ABX9TyNEiIFSwbshsXycmDW+Pzzx",
      "include_colab_link": true
    },
    "kernelspec": {
      "name": "python3",
      "display_name": "Python 3"
    },
    "language_info": {
      "name": "python"
    }
  },
  "cells": [
    {
      "cell_type": "markdown",
      "metadata": {
        "id": "view-in-github",
        "colab_type": "text"
      },
      "source": [
        "<a href=\"https://colab.research.google.com/github/asmazullo/learnpython/blob/main/Analise_COVID_by_Alex_Mazullo.ipynb\" target=\"_parent\"><img src=\"https://colab.research.google.com/assets/colab-badge.svg\" alt=\"Open In Colab\"/></a>"
      ]
    },
    {
      "cell_type": "markdown",
      "metadata": {
        "id": "-2OFjPkhplEH"
      },
      "source": [
        "##**Painel independente Covid Profissões versus internações em UTI**<br>\n",
        "[<font color=\"red\">covid Alert</font>](https://www.google.com/search?q=coronavirus&hl=en&sa=X&ved=2ahUKEwiv7pub84vwAhWQjJUCHVSSC1oQj-8FegQIARAY)\n",
        "#author: Alex Mazullo<br>\n",
        "asmazullo@gmail.com\n",
        "___\n",
        "**Fonte de dados:**<br>\n",
        "Banco de Dados de Síndrome Respiratória Aguda Grave - incluindo dados da COVID-19<br>\n",
        "https://opendatasus.saude.gov.br/dataset/bd-srag-2020<br>\n",
        "\n",
        "<a href=\"https://opendatasus.saude.gov.br/dataset/ae90fa8f-3e94-467e-a33f-94adbb66edf8/resource/8f571374-c555-4ec0-8e44-00b1e8b11c25/download/dicionario-de-dados-srag-hospitalizado-27.07.2020-final.pdf\">Clique aqui para download do dicionário de Dados</a>\n",
        "\n",
        "<a href=\"https://s3-sa-east-1.amazonaws.com/ckan.saude.gov.br/SRAG/2020/INFLUD-12-04-2021.csv\">Clique aqui para download do arquivo CSV</a>\n",
        "\n",
        "---\n",
        "**Metodologia utilizada**<br>\n",
        "Nesta análise eu procurei entender qual a taxa de internação em UTI por tipo de profissão.<br>\n",
        "1) primeiramente isolei a coluna que indica internação em UTI e filtrei apenas os registros que tiveram internação.<br>\n",
        "2) Depois disso eu limpei todos os registros sem informação de profissão.<br>\n",
        "3) Fiz trê análises:<br>\n",
        "a. Número de internações em UTI por profissão<br>\n",
        "b. Número de infectados por profissão independente de internação<br>\n",
        "c. Número de óbitos por profissão.<br>\n",
        "4)O resultado pode ser visto abaixo:\n",
        "\n"
      ]
    },
    {
      "cell_type": "markdown",
      "metadata": {
        "id": "khexb3JqQYeb"
      },
      "source": [
        "##Passo 1: importação da biblioteca Pandas"
      ]
    },
    {
      "cell_type": "code",
      "metadata": {
        "id": "A4vWAa09tdeb"
      },
      "source": [
        "#Primeiro vamos importar o pandas\n",
        "import pandas as pd"
      ],
      "execution_count": null,
      "outputs": []
    },
    {
      "cell_type": "markdown",
      "metadata": {
        "id": "03wlsqttt17O"
      },
      "source": [
        "##Passo 2: agora vamos definir o arquivo.<br>\n",
        "Aqui eu faço uma conexão ao meu google drive onde eu fiz upload do arquivo.  Mas você pode fazer uload para o próprio ambiente do colab se quiser.  Basta especificar o caminho do arquivo abaixo na variável path:<br>\n",
        "`/content/nome.csv`"
      ]
    },
    {
      "cell_type": "code",
      "metadata": {
        "colab": {
          "base_uri": "https://localhost:8080/"
        },
        "id": "Cj5yClMztitC",
        "outputId": "341b8898-5d3c-4b4f-fad7-5ca7456afba1"
      },
      "source": [
        "#fazendo conexão com meu google drive.  Se o arquivo estiver no seu google drive você pode fazer o mesmo\n",
        "from google.colab import drive\n",
        "#ao executar a linha abaixo será informado um link. \n",
        "#ao clicar no link ele pedirá sua autenticação no google e te informara um código.\n",
        "#este código deve ser inserio no campo que será aberto aqui no colab\n",
        "drive.mount(\"/content/gdmazullo\")\n"
      ],
      "execution_count": null,
      "outputs": [
        {
          "output_type": "stream",
          "text": [
            "Mounted at /content/gdmazullo\n"
          ],
          "name": "stdout"
        }
      ]
    },
    {
      "cell_type": "code",
      "metadata": {
        "id": "HkUUwb8Dmcnt"
      },
      "source": [
        "#agora é só informar a pasta:\n",
        "path = \"/content/gdmazullo/MyDrive/Documentos/conhecimento/Python/INFLUD-12-04-2021.csv\""
      ],
      "execution_count": null,
      "outputs": []
    },
    {
      "cell_type": "markdown",
      "metadata": {
        "id": "2mJ6lGp0QnIO"
      },
      "source": [
        "##Passo 3: Este comando lê o arquivo CSV.<br>\n",
        "Durante esta atividade o colab apresentou diversos erros e reiniciou.  Provavelmente pelo tamanho do arquivo e erros de encoding.<br>\n",
        "A melhor configuração para ler o arquivo foi com engine python e não C.  Embora mais lenta o resultado foi melhor e com menos erros."
      ]
    },
    {
      "cell_type": "code",
      "metadata": {
        "id": "QI1Ofo6RHwQj"
      },
      "source": [
        "df = pd.read_csv(path, encoding='utf-8', sep=';', engine='python')\n",
        "#df = pd.read_csv(path, encoding='utf-8', header=None, sep=';', engine='python')"
      ],
      "execution_count": null,
      "outputs": []
    },
    {
      "cell_type": "markdown",
      "metadata": {
        "id": "rvcn2rU3Q-ts"
      },
      "source": [
        "###Abaixo podemos ver uma prévia do arquivo lido"
      ]
    },
    {
      "cell_type": "code",
      "metadata": {
        "colab": {
          "base_uri": "https://localhost:8080/",
          "height": 353
        },
        "id": "4GD9gglZuVX-",
        "outputId": "7a5b09cb-b154-41f7-c67a-e0b404389627"
      },
      "source": [
        "#aqui podemos ver uma prévia do arquivo:\n",
        "df.head(3)\n"
      ],
      "execution_count": null,
      "outputs": [
        {
          "output_type": "execute_result",
          "data": {
            "text/html": [
              "<div>\n",
              "<style scoped>\n",
              "    .dataframe tbody tr th:only-of-type {\n",
              "        vertical-align: middle;\n",
              "    }\n",
              "\n",
              "    .dataframe tbody tr th {\n",
              "        vertical-align: top;\n",
              "    }\n",
              "\n",
              "    .dataframe thead th {\n",
              "        text-align: right;\n",
              "    }\n",
              "</style>\n",
              "<table border=\"1\" class=\"dataframe\">\n",
              "  <thead>\n",
              "    <tr style=\"text-align: right;\">\n",
              "      <th></th>\n",
              "      <th>DT_NOTIFIC</th>\n",
              "      <th>SEM_NOT</th>\n",
              "      <th>DT_SIN_PRI</th>\n",
              "      <th>SEM_PRI</th>\n",
              "      <th>SG_UF_NOT</th>\n",
              "      <th>ID_REGIONA</th>\n",
              "      <th>CO_REGIONA</th>\n",
              "      <th>ID_MUNICIP</th>\n",
              "      <th>CO_MUN_NOT</th>\n",
              "      <th>ID_UNIDADE</th>\n",
              "      <th>CO_UNI_NOT</th>\n",
              "      <th>CS_SEXO</th>\n",
              "      <th>DT_NASC</th>\n",
              "      <th>NU_IDADE_N</th>\n",
              "      <th>TP_IDADE</th>\n",
              "      <th>COD_IDADE</th>\n",
              "      <th>CS_GESTANT</th>\n",
              "      <th>CS_RACA</th>\n",
              "      <th>CS_ETINIA</th>\n",
              "      <th>CS_ESCOL_N</th>\n",
              "      <th>ID_PAIS</th>\n",
              "      <th>CO_PAIS</th>\n",
              "      <th>SG_UF</th>\n",
              "      <th>ID_RG_RESI</th>\n",
              "      <th>CO_RG_RESI</th>\n",
              "      <th>ID_MN_RESI</th>\n",
              "      <th>CO_MUN_RES</th>\n",
              "      <th>CS_ZONA</th>\n",
              "      <th>SURTO_SG</th>\n",
              "      <th>NOSOCOMIAL</th>\n",
              "      <th>AVE_SUINO</th>\n",
              "      <th>FEBRE</th>\n",
              "      <th>TOSSE</th>\n",
              "      <th>GARGANTA</th>\n",
              "      <th>DISPNEIA</th>\n",
              "      <th>DESC_RESP</th>\n",
              "      <th>SATURACAO</th>\n",
              "      <th>DIARREIA</th>\n",
              "      <th>VOMITO</th>\n",
              "      <th>OUTRO_SIN</th>\n",
              "      <th>...</th>\n",
              "      <th>HISTO_VGM</th>\n",
              "      <th>PAIS_VGM</th>\n",
              "      <th>CO_PS_VGM</th>\n",
              "      <th>LO_PS_VGM</th>\n",
              "      <th>DT_VGM</th>\n",
              "      <th>DT_RT_VGM</th>\n",
              "      <th>PCR_SARS2</th>\n",
              "      <th>PAC_COCBO</th>\n",
              "      <th>PAC_DSCBO</th>\n",
              "      <th>OUT_ANIM</th>\n",
              "      <th>DOR_ABD</th>\n",
              "      <th>FADIGA</th>\n",
              "      <th>PERD_OLFT</th>\n",
              "      <th>PERD_PALA</th>\n",
              "      <th>TOMO_RES</th>\n",
              "      <th>TOMO_OUT</th>\n",
              "      <th>DT_TOMO</th>\n",
              "      <th>TP_TES_AN</th>\n",
              "      <th>DT_RES_AN</th>\n",
              "      <th>RES_AN</th>\n",
              "      <th>POS_AN_FLU</th>\n",
              "      <th>TP_FLU_AN</th>\n",
              "      <th>POS_AN_OUT</th>\n",
              "      <th>AN_SARS2</th>\n",
              "      <th>AN_VSR</th>\n",
              "      <th>AN_PARA1</th>\n",
              "      <th>AN_PARA2</th>\n",
              "      <th>AN_PARA3</th>\n",
              "      <th>AN_ADENO</th>\n",
              "      <th>AN_OUTRO</th>\n",
              "      <th>DS_AN_OUT</th>\n",
              "      <th>TP_AM_SOR</th>\n",
              "      <th>SOR_OUT</th>\n",
              "      <th>DT_CO_SOR</th>\n",
              "      <th>TP_SOR</th>\n",
              "      <th>OUT_SOR</th>\n",
              "      <th>DT_RES</th>\n",
              "      <th>RES_IGG</th>\n",
              "      <th>RES_IGM</th>\n",
              "      <th>RES_IGA</th>\n",
              "    </tr>\n",
              "  </thead>\n",
              "  <tbody>\n",
              "    <tr>\n",
              "      <th>0</th>\n",
              "      <td>10/02/2020</td>\n",
              "      <td>7</td>\n",
              "      <td>07/02/2020</td>\n",
              "      <td>6</td>\n",
              "      <td>BA</td>\n",
              "      <td>NUCLEO REGIONAL DE SAUDE LESTE</td>\n",
              "      <td>1380.0</td>\n",
              "      <td>SALVADOR</td>\n",
              "      <td>292740</td>\n",
              "      <td>HOSPITAL SANTA ISABEL</td>\n",
              "      <td>3832</td>\n",
              "      <td>M</td>\n",
              "      <td>05/09/2017</td>\n",
              "      <td>2</td>\n",
              "      <td>3</td>\n",
              "      <td>3002</td>\n",
              "      <td>6</td>\n",
              "      <td>4.0</td>\n",
              "      <td>NaN</td>\n",
              "      <td>5.0</td>\n",
              "      <td>BRASIL</td>\n",
              "      <td>1</td>\n",
              "      <td>BA</td>\n",
              "      <td>NUCLEO REGIONAL DE SAUDE LESTE</td>\n",
              "      <td>1380.0</td>\n",
              "      <td>SALVADOR</td>\n",
              "      <td>292740.0</td>\n",
              "      <td>NaN</td>\n",
              "      <td>NaN</td>\n",
              "      <td>2.0</td>\n",
              "      <td>2.0</td>\n",
              "      <td>1.0</td>\n",
              "      <td>1.0</td>\n",
              "      <td>9.0</td>\n",
              "      <td>1.0</td>\n",
              "      <td>1.0</td>\n",
              "      <td>2.0</td>\n",
              "      <td>2.0</td>\n",
              "      <td>2.0</td>\n",
              "      <td>2.0</td>\n",
              "      <td>...</td>\n",
              "      <td>1</td>\n",
              "      <td>ESPANHA</td>\n",
              "      <td>44.0</td>\n",
              "      <td>BELLVIS</td>\n",
              "      <td>15/01/2020</td>\n",
              "      <td>07/02/2020</td>\n",
              "      <td>NaN</td>\n",
              "      <td>NaN</td>\n",
              "      <td>NaN</td>\n",
              "      <td>NaN</td>\n",
              "      <td>2.0</td>\n",
              "      <td>2.0</td>\n",
              "      <td>2.0</td>\n",
              "      <td>2.0</td>\n",
              "      <td>6.0</td>\n",
              "      <td>NaN</td>\n",
              "      <td>NaN</td>\n",
              "      <td>1.0</td>\n",
              "      <td>NaN</td>\n",
              "      <td>4.0</td>\n",
              "      <td>NaN</td>\n",
              "      <td>NaN</td>\n",
              "      <td>NaN</td>\n",
              "      <td>NaN</td>\n",
              "      <td>NaN</td>\n",
              "      <td>NaN</td>\n",
              "      <td>NaN</td>\n",
              "      <td>NaN</td>\n",
              "      <td>NaN</td>\n",
              "      <td>NaN</td>\n",
              "      <td>NaN</td>\n",
              "      <td>NaN</td>\n",
              "      <td>NaN</td>\n",
              "      <td>NaN</td>\n",
              "      <td>NaN</td>\n",
              "      <td>NaN</td>\n",
              "      <td>NaN</td>\n",
              "      <td>NaN</td>\n",
              "      <td>NaN</td>\n",
              "      <td>NaN</td>\n",
              "    </tr>\n",
              "    <tr>\n",
              "      <th>1</th>\n",
              "      <td>11/02/2020</td>\n",
              "      <td>7</td>\n",
              "      <td>08/02/2020</td>\n",
              "      <td>6</td>\n",
              "      <td>SP</td>\n",
              "      <td>GVE XVII CAMPINAS</td>\n",
              "      <td>1342.0</td>\n",
              "      <td>CAMPINAS</td>\n",
              "      <td>350950</td>\n",
              "      <td>HOSPITAL VERA CRUZ</td>\n",
              "      <td>2078376</td>\n",
              "      <td>F</td>\n",
              "      <td>26/03/2019</td>\n",
              "      <td>11</td>\n",
              "      <td>2</td>\n",
              "      <td>2011</td>\n",
              "      <td>6</td>\n",
              "      <td>1.0</td>\n",
              "      <td>NaN</td>\n",
              "      <td>5.0</td>\n",
              "      <td>BRASIL</td>\n",
              "      <td>1</td>\n",
              "      <td>SP</td>\n",
              "      <td>GVE XXVI SAO JOAO DA BOA VISTA</td>\n",
              "      <td>1350.0</td>\n",
              "      <td>MOJI MIRIM</td>\n",
              "      <td>353080.0</td>\n",
              "      <td>1.0</td>\n",
              "      <td>1.0</td>\n",
              "      <td>2.0</td>\n",
              "      <td>2.0</td>\n",
              "      <td>1.0</td>\n",
              "      <td>1.0</td>\n",
              "      <td>2.0</td>\n",
              "      <td>1.0</td>\n",
              "      <td>1.0</td>\n",
              "      <td>1.0</td>\n",
              "      <td>2.0</td>\n",
              "      <td>2.0</td>\n",
              "      <td>1.0</td>\n",
              "      <td>...</td>\n",
              "      <td>9</td>\n",
              "      <td>NaN</td>\n",
              "      <td>NaN</td>\n",
              "      <td>NaN</td>\n",
              "      <td>NaN</td>\n",
              "      <td>NaN</td>\n",
              "      <td>NaN</td>\n",
              "      <td>NaN</td>\n",
              "      <td>NaN</td>\n",
              "      <td>NaN</td>\n",
              "      <td>NaN</td>\n",
              "      <td>NaN</td>\n",
              "      <td>NaN</td>\n",
              "      <td>NaN</td>\n",
              "      <td>NaN</td>\n",
              "      <td>NaN</td>\n",
              "      <td>NaN</td>\n",
              "      <td>1.0</td>\n",
              "      <td>10/02/2020</td>\n",
              "      <td>1.0</td>\n",
              "      <td>NaN</td>\n",
              "      <td>NaN</td>\n",
              "      <td>1.0</td>\n",
              "      <td>NaN</td>\n",
              "      <td>1.0</td>\n",
              "      <td>NaN</td>\n",
              "      <td>NaN</td>\n",
              "      <td>NaN</td>\n",
              "      <td>NaN</td>\n",
              "      <td>NaN</td>\n",
              "      <td>NaN</td>\n",
              "      <td>NaN</td>\n",
              "      <td>NaN</td>\n",
              "      <td>NaN</td>\n",
              "      <td>NaN</td>\n",
              "      <td>NaN</td>\n",
              "      <td>NaN</td>\n",
              "      <td>NaN</td>\n",
              "      <td>NaN</td>\n",
              "      <td>NaN</td>\n",
              "    </tr>\n",
              "    <tr>\n",
              "      <th>2</th>\n",
              "      <td>29/01/2020</td>\n",
              "      <td>5</td>\n",
              "      <td>25/01/2020</td>\n",
              "      <td>4</td>\n",
              "      <td>PA</td>\n",
              "      <td>11 REGIONAL DE PROTECAO SOCIAL</td>\n",
              "      <td>1494.0</td>\n",
              "      <td>PARAUAPEBAS</td>\n",
              "      <td>150553</td>\n",
              "      <td>HOSPITAL GERAL DE PARAUAPEBAS MANOEL EVALDO BE...</td>\n",
              "      <td>2615746</td>\n",
              "      <td>F</td>\n",
              "      <td>26/12/2002</td>\n",
              "      <td>17</td>\n",
              "      <td>3</td>\n",
              "      <td>3017</td>\n",
              "      <td>9</td>\n",
              "      <td>4.0</td>\n",
              "      <td>NaN</td>\n",
              "      <td>3.0</td>\n",
              "      <td>BRASIL</td>\n",
              "      <td>1</td>\n",
              "      <td>PA</td>\n",
              "      <td>11 REGIONAL DE PROTECAO SOCIAL</td>\n",
              "      <td>1494.0</td>\n",
              "      <td>PARAUAPEBAS</td>\n",
              "      <td>150553.0</td>\n",
              "      <td>1.0</td>\n",
              "      <td>2.0</td>\n",
              "      <td>2.0</td>\n",
              "      <td>2.0</td>\n",
              "      <td>1.0</td>\n",
              "      <td>1.0</td>\n",
              "      <td>1.0</td>\n",
              "      <td>1.0</td>\n",
              "      <td>1.0</td>\n",
              "      <td>1.0</td>\n",
              "      <td>2.0</td>\n",
              "      <td>2.0</td>\n",
              "      <td>2.0</td>\n",
              "      <td>...</td>\n",
              "      <td>0</td>\n",
              "      <td>NaN</td>\n",
              "      <td>NaN</td>\n",
              "      <td>NaN</td>\n",
              "      <td>NaN</td>\n",
              "      <td>NaN</td>\n",
              "      <td>NaN</td>\n",
              "      <td>NaN</td>\n",
              "      <td>NaN</td>\n",
              "      <td>NaN</td>\n",
              "      <td>NaN</td>\n",
              "      <td>NaN</td>\n",
              "      <td>NaN</td>\n",
              "      <td>NaN</td>\n",
              "      <td>NaN</td>\n",
              "      <td>NaN</td>\n",
              "      <td>NaN</td>\n",
              "      <td>1.0</td>\n",
              "      <td>NaN</td>\n",
              "      <td>4.0</td>\n",
              "      <td>NaN</td>\n",
              "      <td>NaN</td>\n",
              "      <td>NaN</td>\n",
              "      <td>NaN</td>\n",
              "      <td>NaN</td>\n",
              "      <td>NaN</td>\n",
              "      <td>NaN</td>\n",
              "      <td>NaN</td>\n",
              "      <td>NaN</td>\n",
              "      <td>NaN</td>\n",
              "      <td>NaN</td>\n",
              "      <td>NaN</td>\n",
              "      <td>NaN</td>\n",
              "      <td>NaN</td>\n",
              "      <td>NaN</td>\n",
              "      <td>NaN</td>\n",
              "      <td>NaN</td>\n",
              "      <td>NaN</td>\n",
              "      <td>NaN</td>\n",
              "      <td>NaN</td>\n",
              "    </tr>\n",
              "  </tbody>\n",
              "</table>\n",
              "<p>3 rows × 154 columns</p>\n",
              "</div>"
            ],
            "text/plain": [
              "   DT_NOTIFIC  SEM_NOT  DT_SIN_PRI  SEM_PRI  ... DT_RES RES_IGG  RES_IGM RES_IGA\n",
              "0  10/02/2020        7  07/02/2020        6  ...    NaN     NaN      NaN     NaN\n",
              "1  11/02/2020        7  08/02/2020        6  ...    NaN     NaN      NaN     NaN\n",
              "2  29/01/2020        5  25/01/2020        4  ...    NaN     NaN      NaN     NaN\n",
              "\n",
              "[3 rows x 154 columns]"
            ]
          },
          "metadata": {
            "tags": []
          },
          "execution_count": 7
        }
      ]
    },
    {
      "cell_type": "code",
      "metadata": {
        "colab": {
          "base_uri": "https://localhost:8080/"
        },
        "id": "iiwaQ0H7z036",
        "outputId": "546afa1b-b6dc-4deb-f49c-ce09e5bbe752"
      },
      "source": [
        "#O arquivo possui 154 campos e 1190744 registros\n",
        "df.info()"
      ],
      "execution_count": null,
      "outputs": [
        {
          "output_type": "stream",
          "text": [
            "<class 'pandas.core.frame.DataFrame'>\n",
            "RangeIndex: 1190745 entries, 0 to 1190744\n",
            "Columns: 154 entries, DT_NOTIFIC to RES_IGA\n",
            "dtypes: float64(87), int64(9), object(58)\n",
            "memory usage: 1.4+ GB\n"
          ],
          "name": "stdout"
        }
      ]
    },
    {
      "cell_type": "code",
      "metadata": {
        "colab": {
          "base_uri": "https://localhost:8080/"
        },
        "id": "-TCzBkOd45bg",
        "outputId": "4402dfce-e698-44c7-e915-ebad57993ea0"
      },
      "source": [
        "df.keys()"
      ],
      "execution_count": null,
      "outputs": [
        {
          "output_type": "execute_result",
          "data": {
            "text/plain": [
              "Index(['DT_NOTIFIC', 'SEM_NOT', 'DT_SIN_PRI', 'SEM_PRI', 'SG_UF_NOT',\n",
              "       'ID_REGIONA', 'CO_REGIONA', 'ID_MUNICIP', 'CO_MUN_NOT', 'ID_UNIDADE',\n",
              "       ...\n",
              "       'DS_AN_OUT', 'TP_AM_SOR', 'SOR_OUT', 'DT_CO_SOR', 'TP_SOR', 'OUT_SOR',\n",
              "       'DT_RES', 'RES_IGG', 'RES_IGM', 'RES_IGA'],\n",
              "      dtype='object', length=154)"
            ]
          },
          "metadata": {
            "tags": []
          },
          "execution_count": 9
        }
      ]
    },
    {
      "cell_type": "markdown",
      "metadata": {
        "id": "QbrUAdjA1svm"
      },
      "source": [
        "##Campos para análise:\n",
        "Depois do arquivo importado podemos fazer a análise.\n",
        "\n",
        "No dicionário de dados podemos pegar os campos relativos a UTI e ocupação de acorco com o CBO:<br>\n",
        "\n",
        "*PAC_DSCBO<br>\n",
        "UTI - valor 1 para internado em UTI<br>\n",
        "EVOLUCAO - valor 1 para óbito*\n"
      ]
    },
    {
      "cell_type": "code",
      "metadata": {
        "colab": {
          "base_uri": "https://localhost:8080/"
        },
        "id": "7VFgXHI_1cS2",
        "outputId": "2aaab03c-d7d2-42cc-eade-ab97fb8664a1"
      },
      "source": [
        "df['PAC_DSCBO']"
      ],
      "execution_count": null,
      "outputs": [
        {
          "output_type": "execute_result",
          "data": {
            "text/plain": [
              "0          NaN\n",
              "1          NaN\n",
              "2          NaN\n",
              "3          NaN\n",
              "4          NaN\n",
              "          ... \n",
              "1190740    NaN\n",
              "1190741    NaN\n",
              "1190742    NaN\n",
              "1190743    NaN\n",
              "1190744    NaN\n",
              "Name: PAC_DSCBO, Length: 1190745, dtype: object"
            ]
          },
          "metadata": {
            "tags": []
          },
          "execution_count": 10
        }
      ]
    },
    {
      "cell_type": "code",
      "metadata": {
        "colab": {
          "base_uri": "https://localhost:8080/"
        },
        "id": "rxkcXhMmuP5B",
        "outputId": "b9be9313-6d1a-4b0d-c723-acdcb7269d18"
      },
      "source": [
        "# De acordo com o docionário de dados\n",
        "#1-Cura\n",
        "#2-Óbito\n",
        "#3- Óbito por outras causas\n",
        "#9-Ignorado\n",
        "\n",
        "df['EVOLUCAO']"
      ],
      "execution_count": null,
      "outputs": [
        {
          "output_type": "execute_result",
          "data": {
            "text/plain": [
              "61         1.0\n",
              "119        1.0\n",
              "126        1.0\n",
              "259        2.0\n",
              "401        2.0\n",
              "          ... \n",
              "1190521    3.0\n",
              "1190531    3.0\n",
              "1190586    2.0\n",
              "1190692    NaN\n",
              "1190696    1.0\n",
              "Name: EVOLUCAO, Length: 25740, dtype: float64"
            ]
          },
          "metadata": {
            "tags": []
          },
          "execution_count": 22
        }
      ]
    },
    {
      "cell_type": "code",
      "metadata": {
        "colab": {
          "base_uri": "https://localhost:8080/"
        },
        "id": "ZX4DYq3dRjs9",
        "outputId": "87761468-d4ac-4261-e26c-cc84e51d8c05"
      },
      "source": [
        "# De acordo com o docionário de dados\n",
        "#1-Sim\n",
        "#2-Não\n",
        "#9-Ignorado\n",
        "\n",
        "df['UTI']"
      ],
      "execution_count": null,
      "outputs": [
        {
          "output_type": "execute_result",
          "data": {
            "text/plain": [
              "0          2.0\n",
              "1          1.0\n",
              "2          1.0\n",
              "3          2.0\n",
              "4          1.0\n",
              "          ... \n",
              "1190740    2.0\n",
              "1190741    NaN\n",
              "1190742    1.0\n",
              "1190743    NaN\n",
              "1190744    2.0\n",
              "Name: UTI, Length: 1190745, dtype: float64"
            ]
          },
          "metadata": {
            "tags": []
          },
          "execution_count": 11
        }
      ]
    },
    {
      "cell_type": "markdown",
      "metadata": {
        "id": "2aZ1oZEyRne4"
      },
      "source": [
        "##Passo 4: Precisamos agora limpar todos os registros do campo ocupação que não estão em branco.<br>\n",
        "Posteriormente vou fazer outro filtro para retirar os regsitros contendo NÃO INFORMADO para  profissão"
      ]
    },
    {
      "cell_type": "code",
      "metadata": {
        "id": "_qdWkFM4_y3n"
      },
      "source": [
        "#limpando os dados em branco da coluna que contém as profissoes\n",
        "df = df.dropna(subset=['PAC_DSCBO'])"
      ],
      "execution_count": null,
      "outputs": []
    },
    {
      "cell_type": "code",
      "metadata": {
        "colab": {
          "base_uri": "https://localhost:8080/"
        },
        "id": "EzHGcu7zCdJK",
        "outputId": "034eab49-236f-44ca-8937-0890abc1b02d"
      },
      "source": [
        "df['PAC_DSCBO']"
      ],
      "execution_count": null,
      "outputs": [
        {
          "output_type": "execute_result",
          "data": {
            "text/plain": [
              "61                       MEDICO CLINICO\n",
              "119          MOTORISTA DE ONIBUS URBANO\n",
              "126              MEDICO CIRURGIAO GERAL\n",
              "259               COMERCIANTE VAREJISTA\n",
              "401                       NAO INFORMADO\n",
              "                       ...             \n",
              "1190521                      ENFERMEIRO\n",
              "1190531    AGENTE DE COMBATE A ENDEMIAS\n",
              "1190586            FOTOGRAFO RETRATISTA\n",
              "1190692                        ADVOGADO\n",
              "1190696           TECNICO DE ENFERMAGEM\n",
              "Name: PAC_DSCBO, Length: 25740, dtype: object"
            ]
          },
          "metadata": {
            "tags": []
          },
          "execution_count": 13
        }
      ]
    },
    {
      "cell_type": "code",
      "metadata": {
        "colab": {
          "base_uri": "https://localhost:8080/"
        },
        "id": "knmD4CqyCiMI",
        "outputId": "24054e37-cf3b-4af8-acee-36e7ee26d495"
      },
      "source": [
        "#A coluna 76 mostra se a pessoa foi para UTI ou não\n",
        "#1 foi para UTI 2- não foi e 9 - ignorado\n",
        "df['UTI']\n"
      ],
      "execution_count": null,
      "outputs": [
        {
          "output_type": "execute_result",
          "data": {
            "text/plain": [
              "61         NaN\n",
              "119        2.0\n",
              "126        1.0\n",
              "259        2.0\n",
              "401        2.0\n",
              "          ... \n",
              "1190521    2.0\n",
              "1190531    1.0\n",
              "1190586    2.0\n",
              "1190692    1.0\n",
              "1190696    1.0\n",
              "Name: UTI, Length: 25740, dtype: float64"
            ]
          },
          "metadata": {
            "tags": []
          },
          "execution_count": 14
        }
      ]
    },
    {
      "cell_type": "markdown",
      "metadata": {
        "id": "tpKInvrSR0sn"
      },
      "source": [
        "##Passo 5: Agora vamos filtrar somente os registros onde o campo UTI é igual a 1: Foi internado<br>\n",
        "De acordo com o dicionário de dados temos:<br>\n",
        "1 - foi internado<br>\n",
        "2 - não foi internado<br>\n",
        "9 - sem informação sobre internação<br>\n",
        "\n",
        "___\n",
        "Neste mesmo filtro também vou retirar todos os registros com CBO igual a \"NÃO INFORMADO\""
      ]
    },
    {
      "cell_type": "code",
      "metadata": {
        "id": "b0IwM6sKCwzy"
      },
      "source": [
        "df_foiuti=df[(df['UTI']==1) & (df['PAC_DSCBO']!='NAO INFORMADO')]"
      ],
      "execution_count": null,
      "outputs": []
    },
    {
      "cell_type": "markdown",
      "metadata": {
        "id": "BJGm71q-SykL"
      },
      "source": [
        "Abaixo temos a contagem de quantas pessoas estão nesta amostra:"
      ]
    },
    {
      "cell_type": "code",
      "metadata": {
        "colab": {
          "base_uri": "https://localhost:8080/"
        },
        "id": "i2uF6HEqJrNg",
        "outputId": "cfc189bf-c85b-4138-a269-dee2fa44ff2f"
      },
      "source": [
        "df_foiuti['PAC_DSCBO'].count()"
      ],
      "execution_count": null,
      "outputs": [
        {
          "output_type": "execute_result",
          "data": {
            "text/plain": [
              "6441"
            ]
          },
          "metadata": {
            "tags": []
          },
          "execution_count": 16
        }
      ]
    },
    {
      "cell_type": "markdown",
      "metadata": {
        "id": "is4ZpHwBS9Jo"
      },
      "source": [
        "##Passo 6 - abaixo temos o resultado de internações UTI por profissão\n",
        "listei as 30 profissoes com maior número de inernações em UTI dentre as 6441 pessoas da amostra pesquisada.<br>\n",
        "Abaixo a lista e o gráfico por profissões"
      ]
    },
    {
      "cell_type": "code",
      "metadata": {
        "colab": {
          "base_uri": "https://localhost:8080/"
        },
        "id": "VOJWSQmtKQrf",
        "outputId": "251e71c4-9987-42b6-d1f7-eb0f7f260d91"
      },
      "source": [
        "df_foiuti['PAC_DSCBO'].value_counts(dropna=True).head(30)"
      ],
      "execution_count": null,
      "outputs": [
        {
          "output_type": "execute_result",
          "data": {
            "text/plain": [
              "TRABALHADOR VOLANTE DA AGRICULTURA                                                            549\n",
              "TRABALHADOR AGROPECUARIO EM GERAL                                                             291\n",
              "COMERCIANTE VAREJISTA                                                                         257\n",
              "PEDREIRO                                                                                      231\n",
              "TECNICO DE ENFERMAGEM                                                                         169\n",
              "EMPREGADO  DOMESTICO  NOS SERVICOS GERAIS                                                     154\n",
              "ADVOGADO                                                                                      150\n",
              "COZINHEIRO DO SERVICO DOMESTICO                                                               145\n",
              "MOTORISTA DE CARRO DE PASSEIO                                                                 144\n",
              "REPRESENTANTE COMERCIAL AUTONOMO                                                              132\n",
              "ADMINISTRADOR                                                                                 125\n",
              "ENFERMEIRO                                                                                    107\n",
              "PROFESSOR DA  EDUCACAO DE JOVENS E ADULTOS DO ENSINO FUNDAMENTAL (PRIMEIRA A QUARTA SERIE)     99\n",
              "VIGILANTE                                                                                      97\n",
              "MOTORISTA DE CAMINHAO (ROTAS REGIONAIS E INTERNACIONAIS)                                       93\n",
              "ASSISTENTE ADMINISTRATIVO                                                                      81\n",
              "COZINHEIRO GERAL                                                                               78\n",
              "VENDEDOR DE COMERCIO VAREJISTA                                                                 71\n",
              "EMPREGADO DOMESTICO DIARISTA                                                                   65\n",
              "ENGENHEIRO CIVIL                                                                               65\n",
              "CONTADOR                                                                                       60\n",
              "AUXILIAR DE ENFERMAGEM                                                                         60\n",
              "MEDICO CLINICO                                                                                 60\n",
              "COMERCIANTE ATACADISTA                                                                         57\n",
              "CABELEIREIRO                                                                                   55\n",
              "MOTORISTA DE TAXI                                                                              52\n",
              "COSTUREIRA DE PECAS SOB ENCOMENDA                                                              50\n",
              "VENDEDOR AMBULANTE                                                                             48\n",
              "MEDICO EM MEDICINA INTENSIVA                                                                   48\n",
              "ELETRICISTA DE INSTALACOES                                                                     46\n",
              "Name: PAC_DSCBO, dtype: int64"
            ]
          },
          "metadata": {
            "tags": []
          },
          "execution_count": 17
        }
      ]
    },
    {
      "cell_type": "code",
      "metadata": {
        "colab": {
          "base_uri": "https://localhost:8080/",
          "height": 421
        },
        "id": "882SvMaTNlxT",
        "outputId": "a5f331d5-4174-4436-e853-5bcc63b0f3c4"
      },
      "source": [
        "df_foiuti['PAC_DSCBO'].value_counts(dropna=True).head(30).plot(kind='barh', figsize=(20,10), title=\"Maiores internações em UTI por tipo de profissão\", sort_columns=True)"
      ],
      "execution_count": null,
      "outputs": [
        {
          "output_type": "execute_result",
          "data": {
            "text/plain": [
              "<matplotlib.axes._subplots.AxesSubplot at 0x7ff15b0f1190>"
            ]
          },
          "metadata": {
            "tags": []
          },
          "execution_count": 18
        },
        {
          "output_type": "display_data",
          "data": {
            "image/png": "[encoded data removed]",
            "text/plain": [
              "<Figure size 1440x720 with 1 Axes>"
            ]
          },
          "metadata": {
            "tags": [],
            "needs_background": "light"
          }
        }
      ]
    },
    {
      "cell_type": "code",
      "metadata": {
        "id": "YKNYhD9Gr02b"
      },
      "source": [
        ""
      ],
      "execution_count": null,
      "outputs": []
    },
    {
      "cell_type": "markdown",
      "metadata": {
        "id": "OSsSTCTVr1ub"
      },
      "source": [
        "##Passo 7 - Infectados por profissão independente de internação\n",
        "Abaixo a lista e o gráfico por profissões<br>\n",
        "Vou também fazer uma relação geral de pessoas infectadas por profissão, independente de ter ido para UTI ou não."
      ]
    },
    {
      "cell_type": "code",
      "metadata": {
        "id": "1zGuNGVBsA71"
      },
      "source": [
        "#criando dataframe com todos que informaram a profissão:\n",
        "df_informouprofissao=df[(df['PAC_DSCBO']!='NAO INFORMADO')]\n",
        "\n"
      ],
      "execution_count": null,
      "outputs": []
    },
    {
      "cell_type": "code",
      "metadata": {
        "colab": {
          "base_uri": "https://localhost:8080/"
        },
        "id": "LXiE_5Er_8__",
        "outputId": "b508fab0-69b6-4b1e-8f2a-626f101ed07a"
      },
      "source": [
        "df_informouprofissao['PAC_DSCBO'].count()"
      ],
      "execution_count": 27,
      "outputs": [
        {
          "output_type": "execute_result",
          "data": {
            "text/plain": [
              "22651"
            ]
          },
          "metadata": {
            "tags": []
          },
          "execution_count": 27
        }
      ]
    },
    {
      "cell_type": "code",
      "metadata": {
        "colab": {
          "base_uri": "https://localhost:8080/"
        },
        "id": "jotoIoDgsUwN",
        "outputId": "e7cec4f4-5cf1-4b74-ea26-54ec82cfa938"
      },
      "source": [
        "#fazendo a limpeza dos dados NA e coletando os valores dos 30 primeiros\n",
        "df_informouprofissao['PAC_DSCBO'].value_counts(dropna=True).head(30)"
      ],
      "execution_count": null,
      "outputs": [
        {
          "output_type": "execute_result",
          "data": {
            "text/plain": [
              "TRABALHADOR VOLANTE DA AGRICULTURA                                                            2076\n",
              "TRABALHADOR AGROPECUARIO EM GERAL                                                             1021\n",
              "TECNICO DE ENFERMAGEM                                                                          866\n",
              "COMERCIANTE VAREJISTA                                                                          708\n",
              "PEDREIRO                                                                                       703\n",
              "ENFERMEIRO                                                                                     625\n",
              "EMPREGADO  DOMESTICO  NOS SERVICOS GERAIS                                                      612\n",
              "PROFESSOR DA  EDUCACAO DE JOVENS E ADULTOS DO ENSINO FUNDAMENTAL (PRIMEIRA A QUARTA SERIE)     453\n",
              "MOTORISTA DE CARRO DE PASSEIO                                                                  425\n",
              "ADVOGADO                                                                                       405\n",
              "REPRESENTANTE COMERCIAL AUTONOMO                                                               398\n",
              "ADMINISTRADOR                                                                                  377\n",
              "MOTORISTA DE CAMINHAO (ROTAS REGIONAIS E INTERNACIONAIS)                                       374\n",
              "ASSISTENTE ADMINISTRATIVO                                                                      305\n",
              "VENDEDOR DE COMERCIO VAREJISTA                                                                 276\n",
              "COZINHEIRO GERAL                                                                               263\n",
              "VIGILANTE                                                                                      260\n",
              "MEDICO CLINICO                                                                                 250\n",
              "EMPREGADO DOMESTICO DIARISTA                                                                   245\n",
              "AUXILIAR DE ENFERMAGEM                                                                         240\n",
              "COZINHEIRO DO SERVICO DOMESTICO                                                                211\n",
              "CONTADOR                                                                                       194\n",
              "CABELEIREIRO                                                                                   186\n",
              "COMERCIANTE ATACADISTA                                                                         178\n",
              "CASEIRO (AGRICULTURA)                                                                          173\n",
              "ENGENHEIRO CIVIL                                                                               168\n",
              "PRODUTOR AGRICOLA POLIVALENTE                                                                  158\n",
              "ELETRICISTA DE INSTALACOES                                                                     153\n",
              "VENDEDOR AMBULANTE                                                                             153\n",
              "PRODUTOR AGROPECUARIO, EM GERAL                                                                148\n",
              "Name: PAC_DSCBO, dtype: int64"
            ]
          },
          "metadata": {
            "tags": []
          },
          "execution_count": 20
        }
      ]
    },
    {
      "cell_type": "code",
      "metadata": {
        "colab": {
          "base_uri": "https://localhost:8080/",
          "height": 421
        },
        "id": "lxlHB7tgsnmx",
        "outputId": "0879e2d1-34f1-4630-adaa-28ea50dce71f"
      },
      "source": [
        "#Plotando o Gráfico:\n",
        "df_informouprofissao['PAC_DSCBO'].value_counts(dropna=True).head(30).plot(kind='barh', figsize=(20,10), title=\"Infectados por tipo de profissão\", sort_columns=True)"
      ],
      "execution_count": null,
      "outputs": [
        {
          "output_type": "execute_result",
          "data": {
            "text/plain": [
              "<matplotlib.axes._subplots.AxesSubplot at 0x7ff15b11c7d0>"
            ]
          },
          "metadata": {
            "tags": []
          },
          "execution_count": 21
        },
        {
          "output_type": "display_data",
          "data": {
            "image/png": "[encoded data removed]",
            "text/plain": [
              "<Figure size 1440x720 with 1 Axes>"
            ]
          },
          "metadata": {
            "tags": [],
            "needs_background": "light"
          }
        }
      ]
    },
    {
      "cell_type": "markdown",
      "metadata": {
        "id": "4mEdCtwUvQt-"
      },
      "source": [
        "##Passo 8 - Óbitos por profissão independente de internação\n",
        "Abaixo a lista de óbitos por profissões<br>\n",
        "Vou também fazer uma relação geral de pessoas infectadas por profissão, independente de ter ido para UTI ou não."
      ]
    },
    {
      "cell_type": "code",
      "metadata": {
        "id": "-o7FOlDzvcdM"
      },
      "source": [
        "df_obitos=df[(df['EVOLUCAO']==2) & (df['PAC_DSCBO']!='NAO INFORMADO')]\n"
      ],
      "execution_count": null,
      "outputs": []
    },
    {
      "cell_type": "code",
      "metadata": {
        "colab": {
          "base_uri": "https://localhost:8080/"
        },
        "id": "6Ei2ST3pALo8",
        "outputId": "c070e582-6610-46b3-bd5b-28fae7f1ada6"
      },
      "source": [
        "df_obitos['PAC_DSCBO'].count()"
      ],
      "execution_count": 28,
      "outputs": [
        {
          "output_type": "execute_result",
          "data": {
            "text/plain": [
              "7236"
            ]
          },
          "metadata": {
            "tags": []
          },
          "execution_count": 28
        }
      ]
    },
    {
      "cell_type": "code",
      "metadata": {
        "colab": {
          "base_uri": "https://localhost:8080/"
        },
        "id": "-xgzReCcv2Dk",
        "outputId": "d941a484-2f3f-4799-975a-e3614f32fa0d"
      },
      "source": [
        "df_obitos['PAC_DSCBO'].value_counts(dropna=True).head(30)"
      ],
      "execution_count": null,
      "outputs": [
        {
          "output_type": "execute_result",
          "data": {
            "text/plain": [
              "TRABALHADOR VOLANTE DA AGRICULTURA                                                            935\n",
              "TRABALHADOR AGROPECUARIO EM GERAL                                                             433\n",
              "PEDREIRO                                                                                      337\n",
              "COMERCIANTE VAREJISTA                                                                         268\n",
              "EMPREGADO  DOMESTICO  NOS SERVICOS GERAIS                                                     210\n",
              "REPRESENTANTE COMERCIAL AUTONOMO                                                              180\n",
              "MOTORISTA DE CARRO DE PASSEIO                                                                 166\n",
              "PROFESSOR DA  EDUCACAO DE JOVENS E ADULTOS DO ENSINO FUNDAMENTAL (PRIMEIRA A QUARTA SERIE)    140\n",
              "VIGILANTE                                                                                     122\n",
              "TECNICO DE ENFERMAGEM                                                                         116\n",
              "COZINHEIRO GERAL                                                                              113\n",
              "MOTORISTA DE CAMINHAO (ROTAS REGIONAIS E INTERNACIONAIS)                                      111\n",
              "ADVOGADO                                                                                      104\n",
              "ADMINISTRADOR                                                                                  99\n",
              "EMPREGADO DOMESTICO DIARISTA                                                                   88\n",
              "CASEIRO (AGRICULTURA)                                                                          81\n",
              "VENDEDOR DE COMERCIO VAREJISTA                                                                 73\n",
              "MOTORISTA DE TAXI                                                                              70\n",
              "COSTUREIRA DE PECAS SOB ENCOMENDA                                                              67\n",
              "COZINHEIRO DO SERVICO DOMESTICO                                                                66\n",
              "ENFERMEIRO                                                                                     65\n",
              "ASSISTENTE ADMINISTRATIVO                                                                      62\n",
              "CONTADOR                                                                                       61\n",
              "PRODUTOR AGRICOLA POLIVALENTE                                                                  60\n",
              "VENDEDOR AMBULANTE                                                                             59\n",
              "PRODUTOR AGROPECUARIO, EM GERAL                                                                54\n",
              "PORTEIRO DE EDIFICIOS                                                                          51\n",
              "ELETRICISTA DE INSTALACOES                                                                     50\n",
              "COMERCIANTE ATACADISTA                                                                         50\n",
              "CABELEIREIRO                                                                                   49\n",
              "Name: PAC_DSCBO, dtype: int64"
            ]
          },
          "metadata": {
            "tags": []
          },
          "execution_count": 24
        }
      ]
    },
    {
      "cell_type": "code",
      "metadata": {
        "colab": {
          "base_uri": "https://localhost:8080/",
          "height": 422
        },
        "id": "5eFQmIAVwLjP",
        "outputId": "804a7d05-f7aa-433d-a7f1-003b7f0cfa3e"
      },
      "source": [
        "df_foiuti['PAC_DSCBO'].value_counts(dropna=True).head(30).plot(kind='barh', figsize=(20,10), title=\"Óbitos por profissão\", sort_columns=True)"
      ],
      "execution_count": null,
      "outputs": [
        {
          "output_type": "execute_result",
          "data": {
            "text/plain": [
              "<matplotlib.axes._subplots.AxesSubplot at 0x7ff15b0b1210>"
            ]
          },
          "metadata": {
            "tags": []
          },
          "execution_count": 26
        },
        {
          "output_type": "display_data",
          "data": {
            "image/png": "[encoded data removed]",
            "text/plain": [
              "<Figure size 1440x720 with 1 Axes>"
            ]
          },
          "metadata": {
            "tags": [],
            "needs_background": "light"
          }
        }
      ]
    },
    {
      "cell_type": "markdown",
      "metadata": {
        "id": "mYD-dY2RTt7J"
      },
      "source": [
        "##Sobre a Amostra:\n",
        "A amostra é válida pois temos:<br>\n",
        "População pesquisada: 1.190.744<br>\n",
        "Amostra: 6441<br>\n",
        "margem de erro de 1,03%"
      ]
    },
    {
      "cell_type": "markdown",
      "metadata": {
        "id": "6QEjZCg4wnjZ"
      },
      "source": [
        "##Conclusão:\n",
        "De acordo com os dados analisados e com a metodologia seguida, os trabalhadores rurais foram os mais afetados pela pendemia de COVID-19.  Foram os que tiveram maior número de infeção, maior número de internação e maior número de mortes."
      ]
    },
    {
      "cell_type": "markdown",
      "metadata": {
        "id": "fvK6lpfKwarF"
      },
      "source": [
        "###Abaixo alguns estudos relacionando a raça"
      ]
    },
    {
      "cell_type": "code",
      "metadata": {
        "id": "dULCNQMS21vG"
      },
      "source": [
        "df_foiuti=df[(df['UTI']==1) & (df['CS_RACA']!=9) ]"
      ],
      "execution_count": null,
      "outputs": []
    },
    {
      "cell_type": "code",
      "metadata": {
        "colab": {
          "base_uri": "https://localhost:8080/"
        },
        "id": "G556JuuK25p9",
        "outputId": "12085255-380a-4258-a834-56ee31505438"
      },
      "source": [
        "df_foiuti['CS_RACA'].value_counts(dropna=True).head(5)"
      ],
      "execution_count": null,
      "outputs": [
        {
          "output_type": "execute_result",
          "data": {
            "text/plain": [
              "1.0    47667\n",
              "4.0    37861\n",
              "2.0     5581\n",
              "3.0     1286\n",
              "5.0      194\n",
              "Name: CS_RACA, dtype: int64"
            ]
          },
          "metadata": {
            "tags": []
          },
          "execution_count": 37
        }
      ]
    },
    {
      "cell_type": "code",
      "metadata": {
        "colab": {
          "base_uri": "https://localhost:8080/",
          "height": 282
        },
        "id": "ggcSnJMz28Vx",
        "outputId": "ff77766c-118c-415b-dba6-f4609c47ccb1"
      },
      "source": [
        "df_foiuti['CS_RACA'].value_counts(dropna=True).head(5).plot(kind='barh')"
      ],
      "execution_count": null,
      "outputs": [
        {
          "output_type": "execute_result",
          "data": {
            "text/plain": [
              "<matplotlib.axes._subplots.AxesSubplot at 0x7ff7b603f450>"
            ]
          },
          "metadata": {
            "tags": []
          },
          "execution_count": 38
        },
        {
          "output_type": "display_data",
          "data": {
            "image/png": "[encoded data removed]",
            "text/plain": [
              "<Figure size 432x288 with 1 Axes>"
            ]
          },
          "metadata": {
            "tags": [],
            "needs_background": "light"
          }
        }
      ]
    },
    {
      "cell_type": "code",
      "metadata": {
        "id": "nUNbWPb-3h5A"
      },
      "source": [
        "dfmorte =df[(df['EVOLUCAO']==2) & (df['CS_RACA']!=9) ]"
      ],
      "execution_count": null,
      "outputs": []
    },
    {
      "cell_type": "code",
      "metadata": {
        "colab": {
          "base_uri": "https://localhost:8080/"
        },
        "id": "ph2_1RA85El6",
        "outputId": "cc4f13c6-1efc-459d-ecbc-47d792bdf5ce"
      },
      "source": [
        "dfmorte['CS_RACA'].value_counts(dropna=True).head(5)"
      ],
      "execution_count": null,
      "outputs": [
        {
          "output_type": "execute_result",
          "data": {
            "text/plain": [
              "1.0    39765\n",
              "4.0    38076\n",
              "2.0     5796\n",
              "3.0     1203\n",
              "5.0      302\n",
              "Name: CS_RACA, dtype: int64"
            ]
          },
          "metadata": {
            "tags": []
          },
          "execution_count": 41
        }
      ]
    },
    {
      "cell_type": "code",
      "metadata": {
        "colab": {
          "base_uri": "https://localhost:8080/",
          "height": 282
        },
        "id": "phXkAY615Lq9",
        "outputId": "b816cdfa-89df-4be2-db8f-c1d95c1ff1e6"
      },
      "source": [
        "dfmorte['CS_RACA'].value_counts(dropna=True).head(5).plot(kind='barh')\n"
      ],
      "execution_count": null,
      "outputs": [
        {
          "output_type": "execute_result",
          "data": {
            "text/plain": [
              "<matplotlib.axes._subplots.AxesSubplot at 0x7ff7f328e890>"
            ]
          },
          "metadata": {
            "tags": []
          },
          "execution_count": 43
        },
        {
          "output_type": "display_data",
          "data": {
            "image/png": "[encoded data removed]",
            "text/plain": [
              "<Figure size 432x288 with 1 Axes>"
            ]
          },
          "metadata": {
            "tags": [],
            "needs_background": "light"
          }
        }
      ]
    },
    {
      "cell_type": "code",
      "metadata": {
        "id": "wFE9VGBm5Q4i"
      },
      "source": [
        ""
      ],
      "execution_count": null,
      "outputs": []
    }
  ]
}