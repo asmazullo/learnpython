{
 "cells": [
  {
   "cell_type": "code",
   "execution_count": 4,
   "id": "02600605",
   "metadata": {},
   "outputs": [
    {
     "name": "stdout",
     "output_type": "stream",
     "text": [
      "0\n",
      "1\n",
      "2\n",
      "3\n",
      "4\n",
      "5\n",
      "6\n",
      "7\n",
      "8\n",
      "9\n",
      "10\n",
      "acabou\n"
     ]
    }
   ],
   "source": [
    "count=0\n",
    "while count <=10:\n",
    "    print(count)\n",
    "    count = count+1\n",
    "print(\"acabou\")"
   ]
  },
  {
   "cell_type": "markdown",
   "id": "297ab98c",
   "metadata": {},
   "source": [
    "---"
   ]
  },
  {
   "cell_type": "markdown",
   "id": "118f7e5c",
   "metadata": {},
   "source": [
    "for lool"
   ]
  },
  {
   "cell_type": "code",
   "execution_count": 5,
   "id": "40bbe664",
   "metadata": {},
   "outputs": [
    {
     "name": "stdout",
     "output_type": "stream",
     "text": [
      "ciao mondo\n",
      "ciao mondo\n",
      "ciao mondo\n",
      "ciao mondo\n",
      "ciao mondo\n"
     ]
    }
   ],
   "source": [
    "for i in range(5):\n",
    "    print ('ciao mondo')"
   ]
  },
  {
   "cell_type": "code",
   "execution_count": 6,
   "id": "c9b1dc34",
   "metadata": {},
   "outputs": [
    {
     "data": {
      "text/plain": [
       "[0, 1, 2, 3, 4]"
      ]
     },
     "execution_count": 6,
     "metadata": {},
     "output_type": "execute_result"
    }
   ],
   "source": [
    "list (range(5))"
   ]
  },
  {
   "cell_type": "markdown",
   "id": "a86fc46d",
   "metadata": {},
   "source": [
    "interesting"
   ]
  },
  {
   "cell_type": "code",
   "execution_count": 10,
   "id": "2d803be9",
   "metadata": {},
   "outputs": [
    {
     "name": "stdout",
     "output_type": "stream",
     "text": [
      "0 ciao\n",
      "1 ciao\n",
      "2 ciao\n",
      "3 ciao\n",
      "4 ciao\n"
     ]
    }
   ],
   "source": [
    "for i in range(5):\n",
    "    print (i, \"ciao\")"
   ]
  },
  {
   "cell_type": "code",
   "execution_count": 11,
   "id": "aa6adb6a",
   "metadata": {},
   "outputs": [],
   "source": [
    "mylist =[10,20,30]"
   ]
  },
  {
   "cell_type": "code",
   "execution_count": 12,
   "id": "9cb7a178",
   "metadata": {},
   "outputs": [
    {
     "data": {
      "text/plain": [
       "[10, 20, 30]"
      ]
     },
     "execution_count": 12,
     "metadata": {},
     "output_type": "execute_result"
    }
   ],
   "source": [
    "mylist"
   ]
  },
  {
   "cell_type": "code",
   "execution_count": 15,
   "id": "c710bb6c",
   "metadata": {},
   "outputs": [
    {
     "name": "stdout",
     "output_type": "stream",
     "text": [
      "10\n",
      "20\n",
      "30\n"
     ]
    }
   ],
   "source": [
    "for i in mylist:\n",
    "    print (i)"
   ]
  },
  {
   "cell_type": "markdown",
   "id": "17b5eed8",
   "metadata": {},
   "source": [
    "___\n"
   ]
  },
  {
   "cell_type": "code",
   "execution_count": 17,
   "id": "5c1b52bb",
   "metadata": {},
   "outputs": [],
   "source": [
    "#If statement\n"
   ]
  },
  {
   "cell_type": "code",
   "execution_count": 21,
   "id": "5aba6c8b",
   "metadata": {},
   "outputs": [],
   "source": [
    "import numpy as np\n"
   ]
  },
  {
   "cell_type": "code",
   "execution_count": 102,
   "id": "58eacbac",
   "metadata": {},
   "outputs": [],
   "source": [
    "from numpy.random import randn"
   ]
  },
  {
   "cell_type": "code",
   "execution_count": 55,
   "id": "5773c3de",
   "metadata": {},
   "outputs": [
    {
     "data": {
      "text/plain": [
       "2.1710490865426353"
      ]
     },
     "execution_count": 55,
     "metadata": {},
     "output_type": "execute_result"
    }
   ],
   "source": [
    "randn()"
   ]
  },
  {
   "cell_type": "code",
   "execution_count": 81,
   "id": "e37c57ff",
   "metadata": {},
   "outputs": [
    {
     "name": "stdout",
     "output_type": "stream",
     "text": [
      "1.04401572639533\n",
      "Grather than 1\n"
     ]
    }
   ],
   "source": [
    "a=None\n",
    "x = randn()\n",
    "if x >1:\n",
    "    a=\"Grather than 1\"\n",
    "elif x > -1:\n",
    "    a=\"Between -1 and 1\"\n",
    "else:\n",
    "    a=\"less than -1\"\n",
    "print (x)\n",
    "print (a)\n"
   ]
  },
  {
   "cell_type": "markdown",
   "id": "e5e859f8",
   "metadata": {},
   "source": [
    "----- -2 ------ -1 ------- 0 ------- 1 -------2 -------"
   ]
  },
  {
   "cell_type": "code",
   "execution_count": 101,
   "id": "d040d8bb",
   "metadata": {},
   "outputs": [
    {
     "name": "stdout",
     "output_type": "stream",
     "text": [
      "numero escolhido:  1.397032884366119\n",
      "------ -2 ------ -1 ------- 0 ------- 1 ---X---2 -------\n"
     ]
    }
   ],
   "source": [
    "a= None\n",
    "x = randn()\n",
    "if x > 2:\n",
    "    a = \"------ -2 ------ -1 ------- 0 ------- 1 -------2 ---X---\"\n",
    "elif x > 1:\n",
    "    a = \"------ -2 ------ -1 ------- 0 ------- 1 ---X---2 -------\"\n",
    "elif x> 0:\n",
    "    a = \"------ -2 ------ -1 ------- 0 ---X--- 1 -------2 -------\"\n",
    "elif x > -1:\n",
    "    a = \"------ -2 ------ -1 ---X--- 0 ------- 1 -------2 -------\"\n",
    "elif x > -2:\n",
    "    a = \"------ -2 ---X--- -1 ------- 0 ------- 1 -------2 -------\"\n",
    "else:\n",
    "    a = \"---X--- -2 ------ -1 ------- 0 ------- 1 -------2 -------\"\n",
    "print ('numero escolhido: ', x)\n",
    "print (a)\n"
   ]
  },
  {
   "cell_type": "code",
   "execution_count": null,
   "id": "5aba9d99",
   "metadata": {},
   "outputs": [],
   "source": []
  }
 ],
 "metadata": {
  "kernelspec": {
   "display_name": "Python 3",
   "language": "python",
   "name": "python3"
  },
  "language_info": {
   "codemirror_mode": {
    "name": "ipython",
    "version": 3
   },
   "file_extension": ".py",
   "mimetype": "text/x-python",
   "name": "python",
   "nbconvert_exporter": "python",
   "pygments_lexer": "ipython3",
   "version": "3.9.2"
  }
 },
 "nbformat": 4,
 "nbformat_minor": 5
}
